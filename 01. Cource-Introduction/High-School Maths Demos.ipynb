{
 "cells": [
  {
   "cell_type": "markdown",
   "id": "e68c5938",
   "metadata": {},
   "source": [
    "# High-School Maths Demos\n",
    "## Live Demos"
   ]
  },
  {
   "cell_type": "code",
   "execution_count": 1,
   "id": "b043b65f",
   "metadata": {},
   "outputs": [
    {
     "data": {
      "text/plain": [
       "3"
      ]
     },
     "execution_count": 1,
     "metadata": {},
     "output_type": "execute_result"
    }
   ],
   "source": [
    "1 + 2"
   ]
  },
  {
   "cell_type": "code",
   "execution_count": 3,
   "id": "4e5f901a",
   "metadata": {},
   "outputs": [
    {
     "name": "stdout",
     "output_type": "stream",
     "text": [
      "Hallo High-School Maths\n"
     ]
    }
   ],
   "source": [
    "print(\"Hallo High-School Maths\")"
   ]
  },
  {
   "cell_type": "code",
   "execution_count": 14,
   "id": "d98d70bb",
   "metadata": {},
   "outputs": [
    {
     "name": "stdout",
     "output_type": "stream",
     "text": [
      "0 1 1 2 3 "
     ]
    }
   ],
   "source": [
    "def fib(n):\n",
    "    a = 0\n",
    "    b = 1\n",
    "    if n == 1:\n",
    "        print(a)\n",
    "    else:\n",
    "        print(a, end=\" \")\n",
    "        print(b, end=\" \")\n",
    "        for i in range(2,n):\n",
    "            c = a + b\n",
    "            a = b\n",
    "            b = c\n",
    "            print(c, end=\" \")\n",
    "fib(5)"
   ]
  },
  {
   "cell_type": "code",
   "execution_count": 8,
   "id": "577d7f7c",
   "metadata": {},
   "outputs": [],
   "source": [
    "a = 5"
   ]
  },
  {
   "cell_type": "code",
   "execution_count": 9,
   "id": "ed85103b",
   "metadata": {},
   "outputs": [
    {
     "name": "stdout",
     "output_type": "stream",
     "text": [
      "5\n"
     ]
    }
   ],
   "source": [
    "print(a)"
   ]
  },
  {
   "cell_type": "markdown",
   "id": "8fa5605d",
   "metadata": {},
   "source": [
    "When $a \\ne 0$, there are two solutions to $(ax^2 + bx + c = 0)$ and they are \n",
    "$$ x = {-b \\pm \\sqrt{b^2-4ac} \\over 2a} $$"
   ]
  },
  {
   "cell_type": "code",
   "execution_count": null,
   "id": "b5eedf8d",
   "metadata": {},
   "outputs": [],
   "source": []
  }
 ],
 "metadata": {
  "kernelspec": {
   "display_name": "Python 3 (ipykernel)",
   "language": "python",
   "name": "python3"
  },
  "language_info": {
   "codemirror_mode": {
    "name": "ipython",
    "version": 3
   },
   "file_extension": ".py",
   "mimetype": "text/x-python",
   "name": "python",
   "nbconvert_exporter": "python",
   "pygments_lexer": "ipython3",
   "version": "3.9.13"
  }
 },
 "nbformat": 4,
 "nbformat_minor": 5
}
